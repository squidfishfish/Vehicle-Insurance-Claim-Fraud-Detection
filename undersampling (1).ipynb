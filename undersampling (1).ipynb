{
 "cells": [
  {
   "cell_type": "code",
   "execution_count": 1,
   "id": "6781b073",
   "metadata": {},
   "outputs": [],
   "source": [
    "import pandas as pd\n",
    "import numpy as np\n",
    "import matplotlib.pyplot as plt\n",
    "import seaborn as sb"
   ]
  },
  {
   "cell_type": "code",
   "execution_count": 2,
   "id": "e3d25711",
   "metadata": {},
   "outputs": [
    {
     "name": "stdout",
     "output_type": "stream",
     "text": [
      "<class 'pandas.core.frame.DataFrame'>\n",
      "RangeIndex: 15420 entries, 0 to 15419\n",
      "Data columns (total 11 columns):\n",
      " #   Column               Non-Null Count  Dtype  \n",
      "---  ------               --------------  -----  \n",
      " 0   Unnamed: 0           15420 non-null  int64  \n",
      " 1   FraudFound_P         15420 non-null  int64  \n",
      " 2   Rural                15420 non-null  float64\n",
      " 3   Male                 15420 non-null  float64\n",
      " 4   Policy Holder Fault  15420 non-null  float64\n",
      " 5   Sedan                15420 non-null  float64\n",
      " 6   Frist Claim          15420 non-null  float64\n",
      " 7   Collision Coverage   15420 non-null  float64\n",
      " 8   VP_69000             15420 non-null  float64\n",
      " 9   VP_20000             15420 non-null  float64\n",
      " 10  Under 35             15420 non-null  float64\n",
      "dtypes: float64(9), int64(2)\n",
      "memory usage: 1.3 MB\n"
     ]
    }
   ],
   "source": [
    "data = pd.read_csv(\"C:/Users/yueyu/Dropbox/PC/Desktop/Capstone/DF2.csv.xls\")\n",
    "data.info()"
   ]
  },
  {
   "cell_type": "code",
   "execution_count": 3,
   "id": "49e915fb",
   "metadata": {},
   "outputs": [],
   "source": [
    "x = data[['Rural', 'Male', 'Policy Holder Fault', 'Sedan', 'Frist Claim', 'Collision Coverage', 'VP_69000', 'VP_20000', 'Under 35']]\n",
    "y = data[['FraudFound_P']]"
   ]
  },
  {
   "cell_type": "code",
   "execution_count": 4,
   "id": "2e6430a3",
   "metadata": {},
   "outputs": [],
   "source": [
    "#Partition the dataset as training set and validation set\n",
    "from sklearn.model_selection import train_test_split\n",
    "X_train, X_test, Y_train, Y_test = train_test_split( x, y, test_size=0.3, random_state=0)"
   ]
  },
  {
   "cell_type": "code",
   "execution_count": 5,
   "id": "30186a8f",
   "metadata": {},
   "outputs": [],
   "source": [
    "train=pd.concat([Y_train,X_train],axis=1)\n",
    "test=pd.concat([Y_test,X_test],axis=1)"
   ]
  },
  {
   "cell_type": "code",
   "execution_count": 6,
   "id": "5111b4f5",
   "metadata": {},
   "outputs": [
    {
     "name": "stdout",
     "output_type": "stream",
     "text": [
      "Requirement already satisfied: imbalanced-learn in c:\\users\\yueyu\\anaconda3\\lib\\site-packages (0.9.1)\n",
      "Requirement already satisfied: scipy>=1.3.2 in c:\\users\\yueyu\\anaconda3\\lib\\site-packages (from imbalanced-learn) (1.6.2)\n",
      "Requirement already satisfied: threadpoolctl>=2.0.0 in c:\\users\\yueyu\\anaconda3\\lib\\site-packages (from imbalanced-learn) (2.1.0)\n",
      "Requirement already satisfied: joblib>=1.0.0 in c:\\users\\yueyu\\anaconda3\\lib\\site-packages (from imbalanced-learn) (1.0.1)\n",
      "Requirement already satisfied: scikit-learn>=1.1.0 in c:\\users\\yueyu\\anaconda3\\lib\\site-packages (from imbalanced-learn) (1.1.3)\n",
      "Requirement already satisfied: numpy>=1.17.3 in c:\\users\\yueyu\\anaconda3\\lib\\site-packages (from imbalanced-learn) (1.20.1)\n",
      "Note: you may need to restart the kernel to use updated packages.\n"
     ]
    }
   ],
   "source": [
    "pip install -U imbalanced-learn "
   ]
  },
  {
   "cell_type": "code",
   "execution_count": 7,
   "id": "de737b92",
   "metadata": {},
   "outputs": [],
   "source": [
    "#Balance training set\n",
    "from imblearn import over_sampling, under_sampling"
   ]
  },
  {
   "cell_type": "code",
   "execution_count": 8,
   "id": "f9daff83",
   "metadata": {},
   "outputs": [],
   "source": [
    "X = train[['Rural', 'Male', 'Policy Holder Fault', 'Sedan', 'Frist Claim', 'Collision Coverage', 'VP_69000', 'VP_20000', 'Under 35']]\n",
    "y = train[['FraudFound_P']]"
   ]
  },
  {
   "cell_type": "code",
   "execution_count": 9,
   "id": "47420cb3",
   "metadata": {},
   "outputs": [
    {
     "data": {
      "text/html": [
       "<div>\n",
       "<style scoped>\n",
       "    .dataframe tbody tr th:only-of-type {\n",
       "        vertical-align: middle;\n",
       "    }\n",
       "\n",
       "    .dataframe tbody tr th {\n",
       "        vertical-align: top;\n",
       "    }\n",
       "\n",
       "    .dataframe thead th {\n",
       "        text-align: right;\n",
       "    }\n",
       "</style>\n",
       "<table border=\"1\" class=\"dataframe\">\n",
       "  <thead>\n",
       "    <tr style=\"text-align: right;\">\n",
       "      <th></th>\n",
       "      <th>Rural</th>\n",
       "      <th>Male</th>\n",
       "      <th>Policy Holder Fault</th>\n",
       "      <th>Sedan</th>\n",
       "      <th>Frist Claim</th>\n",
       "      <th>Collision Coverage</th>\n",
       "      <th>VP_69000</th>\n",
       "      <th>VP_20000</th>\n",
       "      <th>Under 35</th>\n",
       "    </tr>\n",
       "  </thead>\n",
       "  <tbody>\n",
       "    <tr>\n",
       "      <th>0</th>\n",
       "      <td>1.0</td>\n",
       "      <td>1.0</td>\n",
       "      <td>1.0</td>\n",
       "      <td>1.0</td>\n",
       "      <td>0.0</td>\n",
       "      <td>1.0</td>\n",
       "      <td>0.0</td>\n",
       "      <td>0.0</td>\n",
       "      <td>0.0</td>\n",
       "    </tr>\n",
       "    <tr>\n",
       "      <th>1</th>\n",
       "      <td>1.0</td>\n",
       "      <td>1.0</td>\n",
       "      <td>1.0</td>\n",
       "      <td>0.0</td>\n",
       "      <td>0.0</td>\n",
       "      <td>0.0</td>\n",
       "      <td>0.0</td>\n",
       "      <td>0.0</td>\n",
       "      <td>0.0</td>\n",
       "    </tr>\n",
       "    <tr>\n",
       "      <th>2</th>\n",
       "      <td>0.0</td>\n",
       "      <td>1.0</td>\n",
       "      <td>1.0</td>\n",
       "      <td>0.0</td>\n",
       "      <td>0.0</td>\n",
       "      <td>0.0</td>\n",
       "      <td>0.0</td>\n",
       "      <td>0.0</td>\n",
       "      <td>1.0</td>\n",
       "    </tr>\n",
       "    <tr>\n",
       "      <th>3</th>\n",
       "      <td>0.0</td>\n",
       "      <td>1.0</td>\n",
       "      <td>1.0</td>\n",
       "      <td>1.0</td>\n",
       "      <td>0.0</td>\n",
       "      <td>1.0</td>\n",
       "      <td>1.0</td>\n",
       "      <td>0.0</td>\n",
       "      <td>0.0</td>\n",
       "    </tr>\n",
       "    <tr>\n",
       "      <th>4</th>\n",
       "      <td>0.0</td>\n",
       "      <td>1.0</td>\n",
       "      <td>1.0</td>\n",
       "      <td>1.0</td>\n",
       "      <td>0.0</td>\n",
       "      <td>1.0</td>\n",
       "      <td>0.0</td>\n",
       "      <td>0.0</td>\n",
       "      <td>0.0</td>\n",
       "    </tr>\n",
       "    <tr>\n",
       "      <th>...</th>\n",
       "      <td>...</td>\n",
       "      <td>...</td>\n",
       "      <td>...</td>\n",
       "      <td>...</td>\n",
       "      <td>...</td>\n",
       "      <td>...</td>\n",
       "      <td>...</td>\n",
       "      <td>...</td>\n",
       "      <td>...</td>\n",
       "    </tr>\n",
       "    <tr>\n",
       "      <th>1289</th>\n",
       "      <td>0.0</td>\n",
       "      <td>1.0</td>\n",
       "      <td>1.0</td>\n",
       "      <td>1.0</td>\n",
       "      <td>0.0</td>\n",
       "      <td>1.0</td>\n",
       "      <td>0.0</td>\n",
       "      <td>0.0</td>\n",
       "      <td>1.0</td>\n",
       "    </tr>\n",
       "    <tr>\n",
       "      <th>1290</th>\n",
       "      <td>0.0</td>\n",
       "      <td>1.0</td>\n",
       "      <td>1.0</td>\n",
       "      <td>1.0</td>\n",
       "      <td>0.0</td>\n",
       "      <td>1.0</td>\n",
       "      <td>0.0</td>\n",
       "      <td>0.0</td>\n",
       "      <td>0.0</td>\n",
       "    </tr>\n",
       "    <tr>\n",
       "      <th>1291</th>\n",
       "      <td>1.0</td>\n",
       "      <td>1.0</td>\n",
       "      <td>1.0</td>\n",
       "      <td>1.0</td>\n",
       "      <td>1.0</td>\n",
       "      <td>1.0</td>\n",
       "      <td>0.0</td>\n",
       "      <td>0.0</td>\n",
       "      <td>0.0</td>\n",
       "    </tr>\n",
       "    <tr>\n",
       "      <th>1292</th>\n",
       "      <td>0.0</td>\n",
       "      <td>1.0</td>\n",
       "      <td>1.0</td>\n",
       "      <td>1.0</td>\n",
       "      <td>0.0</td>\n",
       "      <td>1.0</td>\n",
       "      <td>0.0</td>\n",
       "      <td>0.0</td>\n",
       "      <td>1.0</td>\n",
       "    </tr>\n",
       "    <tr>\n",
       "      <th>1293</th>\n",
       "      <td>0.0</td>\n",
       "      <td>1.0</td>\n",
       "      <td>0.0</td>\n",
       "      <td>1.0</td>\n",
       "      <td>1.0</td>\n",
       "      <td>1.0</td>\n",
       "      <td>0.0</td>\n",
       "      <td>0.0</td>\n",
       "      <td>0.0</td>\n",
       "    </tr>\n",
       "  </tbody>\n",
       "</table>\n",
       "<p>1294 rows × 9 columns</p>\n",
       "</div>"
      ],
      "text/plain": [
       "      Rural  Male  Policy Holder Fault  Sedan  Frist Claim  \\\n",
       "0       1.0   1.0                  1.0    1.0          0.0   \n",
       "1       1.0   1.0                  1.0    0.0          0.0   \n",
       "2       0.0   1.0                  1.0    0.0          0.0   \n",
       "3       0.0   1.0                  1.0    1.0          0.0   \n",
       "4       0.0   1.0                  1.0    1.0          0.0   \n",
       "...     ...   ...                  ...    ...          ...   \n",
       "1289    0.0   1.0                  1.0    1.0          0.0   \n",
       "1290    0.0   1.0                  1.0    1.0          0.0   \n",
       "1291    1.0   1.0                  1.0    1.0          1.0   \n",
       "1292    0.0   1.0                  1.0    1.0          0.0   \n",
       "1293    0.0   1.0                  0.0    1.0          1.0   \n",
       "\n",
       "      Collision Coverage  VP_69000  VP_20000  Under 35  \n",
       "0                    1.0       0.0       0.0       0.0  \n",
       "1                    0.0       0.0       0.0       0.0  \n",
       "2                    0.0       0.0       0.0       1.0  \n",
       "3                    1.0       1.0       0.0       0.0  \n",
       "4                    1.0       0.0       0.0       0.0  \n",
       "...                  ...       ...       ...       ...  \n",
       "1289                 1.0       0.0       0.0       1.0  \n",
       "1290                 1.0       0.0       0.0       0.0  \n",
       "1291                 1.0       0.0       0.0       0.0  \n",
       "1292                 1.0       0.0       0.0       1.0  \n",
       "1293                 1.0       0.0       0.0       0.0  \n",
       "\n",
       "[1294 rows x 9 columns]"
      ]
     },
     "execution_count": 9,
     "metadata": {},
     "output_type": "execute_result"
    }
   ],
   "source": [
    "from imblearn.under_sampling import RandomUnderSampler\n",
    "rus = RandomUnderSampler(random_state = 0)\n",
    "X_resampled, y_resampled = rus.fit_resample(X,y)\n",
    "X_resampled"
   ]
  },
  {
   "cell_type": "code",
   "execution_count": 10,
   "id": "9bd00cfb",
   "metadata": {},
   "outputs": [],
   "source": [
    "x_train = X_resampled[['Rural','Male', 'Policy Holder Fault', 'Sedan', 'Frist Claim','Collision Coverage','VP_69000', 'VP_20000', 'Under 35']]\n",
    "y_train = y_resampled[['FraudFound_P']]\n",
    "x_test = test[['Rural','Male', 'Policy Holder Fault', 'Sedan', 'Frist Claim','Collision Coverage','VP_69000', 'VP_20000', 'Under 35']]\n",
    "y_test = test[['FraudFound_P']]"
   ]
  },
  {
   "cell_type": "code",
   "execution_count": 11,
   "id": "96b1d568",
   "metadata": {},
   "outputs": [
    {
     "data": {
      "text/plain": [
       "0.6028966709900562"
      ]
     },
     "execution_count": 11,
     "metadata": {},
     "output_type": "execute_result"
    }
   ],
   "source": [
    "#using simple decision tree classifier\n",
    "from sklearn import tree\n",
    "dt_clf = tree.DecisionTreeClassifier(max_depth = 5) #Build\n",
    "dt_clf.fit(x_train, y_train) # Train\n",
    "dt_clf.score(x_test, y_test) # make prediction"
   ]
  },
  {
   "cell_type": "code",
   "execution_count": 12,
   "id": "ac8f4e89",
   "metadata": {},
   "outputs": [
    {
     "data": {
      "text/plain": [
       "array([[2532, 1818],\n",
       "       [  19,  257]], dtype=int64)"
      ]
     },
     "execution_count": 12,
     "metadata": {},
     "output_type": "execute_result"
    }
   ],
   "source": [
    "#see tge confusion matrix\n",
    "y_pred = dt_clf.predict(x_test)\n",
    "from sklearn.metrics import confusion_matrix\n",
    "confusion_matrix(y_test, y_pred)"
   ]
  },
  {
   "cell_type": "code",
   "execution_count": 13,
   "id": "aa9188e4",
   "metadata": {},
   "outputs": [
    {
     "data": {
      "text/plain": [
       "0.6007349762213575"
      ]
     },
     "execution_count": 13,
     "metadata": {},
     "output_type": "execute_result"
    }
   ],
   "source": [
    "#perform classficiation using random forest classifier\n",
    "from sklearn import ensemble\n",
    "\n",
    "rf_clf = ensemble.RandomForestClassifier(n_estimators=100)\n",
    "rf_clf.fit(x_train, y_train.values.ravel())\n",
    "rf_clf.score(x_test, y_test)"
   ]
  },
  {
   "cell_type": "code",
   "execution_count": 15,
   "id": "7847fbff",
   "metadata": {},
   "outputs": [
    {
     "data": {
      "text/plain": [
       "0.6013834846519671"
      ]
     },
     "execution_count": 15,
     "metadata": {},
     "output_type": "execute_result"
    }
   ],
   "source": [
    "#Perfomr classification using gradient boosting classifier\n",
    "gb_clf = ensemble.GradientBoostingClassifier()\n",
    "gb_clf.fit(x_train, y_train.values.ravel())\n",
    "gb_clf.score(x_test, y_test)"
   ]
  },
  {
   "cell_type": "code",
   "execution_count": 27,
   "id": "13224764",
   "metadata": {},
   "outputs": [
    {
     "data": {
      "text/plain": [
       "0.6035451794206658"
      ]
     },
     "execution_count": 27,
     "metadata": {},
     "output_type": "execute_result"
    }
   ],
   "source": [
    "#let's tune this Gradient booster\n",
    "gb_clf = ensemble.GradientBoostingClassifier(n_estimators=200)\n",
    "gb_clf.fit(x_train, y_train.values.ravel())\n",
    "gb_clf.score(x_test, y_test)"
   ]
  },
  {
   "cell_type": "code",
   "execution_count": 17,
   "id": "b4e68401",
   "metadata": {},
   "outputs": [
    {
     "data": {
      "text/plain": [
       "0.8871595330739299"
      ]
     },
     "execution_count": 17,
     "metadata": {},
     "output_type": "execute_result"
    }
   ],
   "source": [
    "#build k_nearest neighbor classifier\n",
    "from sklearn.neighbors import KNeighborsClassifier\n",
    "knn_clf = KNeighborsClassifier(n_neighbors=10)\n",
    "knn_clf.fit(x_train, y_train.values.ravel())\n",
    "knn_clf.score(x_test, y_test)"
   ]
  },
  {
   "cell_type": "code",
   "execution_count": 18,
   "id": "44237a26",
   "metadata": {},
   "outputs": [
    {
     "data": {
      "text/plain": [
       "0.6044098573281452"
      ]
     },
     "execution_count": 18,
     "metadata": {},
     "output_type": "execute_result"
    }
   ],
   "source": [
    "#build a logistoc Regression classifier\n",
    "from sklearn.linear_model import LogisticRegression\n",
    "lr_clf = LogisticRegression()\n",
    "lr_clf.fit(x_train, y_train.values.ravel())\n",
    "lr_clf.score(x_test, y_test)"
   ]
  },
  {
   "cell_type": "code",
   "execution_count": 19,
   "id": "5e9acf95",
   "metadata": {},
   "outputs": [
    {
     "data": {
      "text/plain": [
       "0.6044098573281452"
      ]
     },
     "execution_count": 19,
     "metadata": {},
     "output_type": "execute_result"
    }
   ],
   "source": [
    "#build an SVM classifier\n",
    "from sklearn.svm import SVC\n",
    "sv_clf = SVC(probability = True)\n",
    "sv_clf.fit(x_train, y_train.values.ravel())\n",
    "sv_clf.score(x_test, y_test)"
   ]
  },
  {
   "cell_type": "code",
   "execution_count": 20,
   "id": "848ba3ec",
   "metadata": {},
   "outputs": [
    {
     "data": {
      "text/plain": [
       "0.6078685689580631"
      ]
     },
     "execution_count": 20,
     "metadata": {},
     "output_type": "execute_result"
    }
   ],
   "source": [
    "#build a Naive Bayes Classifier\n",
    "from sklearn.naive_bayes import GaussianNB\n",
    "nb_clf = GaussianNB()\n",
    "nb_clf.fit(x_train, y_train.values.ravel())\n",
    "nb_clf.score(x_test, y_test)"
   ]
  },
  {
   "cell_type": "code",
   "execution_count": 21,
   "id": "f4feb20d",
   "metadata": {},
   "outputs": [],
   "source": [
    "#Prediction Probabilities\n",
    "r_probs = [0 for _ in range(len(y_test))]\n",
    "dt_probs = dt_clf.predict_proba(x_test)\n",
    "rf_probs = rf_clf.predict_proba(x_test)\n",
    "gb_probs = gb_clf.predict_proba(x_test)\n",
    "knn_probs = knn_clf.predict_proba(x_test)\n",
    "lr_probs = lr_clf.predict_proba(x_test)\n",
    "sv_probs = sv_clf.predict_proba(x_test)\n",
    "nb_probs = nb_clf.predict_proba(x_test)"
   ]
  },
  {
   "cell_type": "code",
   "execution_count": 22,
   "id": "8e68bc59",
   "metadata": {},
   "outputs": [],
   "source": [
    "#probabilities for the positive outcome is kept\n",
    "dt_probs = dt_probs[:,1]\n",
    "rf_probs = rf_probs[:,1]\n",
    "gb_probs = gb_probs[:,1]\n",
    "knn_probs = knn_probs[:,1]\n",
    "lr_probs = lr_probs[:,1]\n",
    "sv_probs = sv_probs[:,1]\n",
    "nb_probs = nb_probs[:,1]"
   ]
  },
  {
   "cell_type": "code",
   "execution_count": 23,
   "id": "d6313004",
   "metadata": {},
   "outputs": [],
   "source": [
    "# Compute the AUROC Values\n",
    "from sklearn.metrics import roc_curve, roc_auc_score\n",
    "r_auc = roc_auc_score(y_test,r_probs)\n",
    "rf_auc = roc_auc_score(y_test,rf_probs)\n",
    "dt_auc = roc_auc_score(y_test,dt_probs)\n",
    "gb_auc = roc_auc_score(y_test,gb_probs)\n",
    "knn_auc = roc_auc_score(y_test,knn_probs)\n",
    "lr_auc = roc_auc_score(y_test,lr_probs)\n",
    "sv_auc = roc_auc_score(y_test,sv_probs)\n",
    "nb_auc = roc_auc_score(y_test,nb_probs)"
   ]
  },
  {
   "cell_type": "code",
   "execution_count": 24,
   "id": "5a773b6e",
   "metadata": {},
   "outputs": [
    {
     "name": "stdout",
     "output_type": "stream",
     "text": [
      "Random Predicition: AUROC = 0.500\n",
      "Random Forest: AUROC = 0.783\n",
      "Decistion Tress Predicition: AUROC = 0.774\n",
      "Gradient Boosting Predicition: AUROC = 0.781\n",
      "KNearest Neighbors Prediction: AUROC = 0.603\n",
      "Logistic Regression: AUROC = 0.779\n",
      "Support Vector Machine: AUROC = 0.754\n",
      "Naive Bayes: AUROC = 0.772\n"
     ]
    }
   ],
   "source": [
    "#Displare the AUROC scores\n",
    "print(\"Random Predicition: AUROC = %.3f\" %(r_auc))\n",
    "print(\"Random Forest: AUROC = %.3f\" %(rf_auc))\n",
    "print(\"Decistion Tress Predicition: AUROC = %.3f\" %(dt_auc))\n",
    "print(\"Gradient Boosting Predicition: AUROC = %.3f\" %(gb_auc))\n",
    "print(\"KNearest Neighbors Prediction: AUROC = %.3f\" %(knn_auc))\n",
    "print(\"Logistic Regression: AUROC = %.3f\" %(lr_auc))\n",
    "print(\"Support Vector Machine: AUROC = %.3f\" %(sv_auc))\n",
    "print(\"Naive Bayes: AUROC = %.3f\" %(nb_auc))"
   ]
  },
  {
   "cell_type": "code",
   "execution_count": 25,
   "id": "5f6ec189",
   "metadata": {},
   "outputs": [],
   "source": [
    "#Calculate the ROC Curve\n",
    "r_fpr, r_tpr, _ = roc_curve(y_test, r_probs)\n",
    "rf_fpr, rf_tpr, _ = roc_curve(y_test, rf_probs)\n",
    "dt_fpr, dt_tpr, _ = roc_curve(y_test, dt_probs)\n",
    "gb_fpr, gb_tpr, _ = roc_curve(y_test, gb_probs)\n",
    "knn_fpr, knn_tpr, _ = roc_curve(y_test, knn_probs)\n",
    "lr_fpr, lr_tpr, _ = roc_curve(y_test, lr_probs)\n",
    "sv_fpr, sv_tpr, _ = roc_curve(y_test, sv_probs)\n",
    "nb_fpr, nb_tpr, _ = roc_curve(y_test, nb_probs)"
   ]
  },
  {
   "cell_type": "code",
   "execution_count": 26,
   "id": "09159396",
   "metadata": {},
   "outputs": [
    {
     "data": {
      "image/png": "[encoded data removed]",
      "text/plain": [
       "<Figure size 1080x720 with 1 Axes>"
      ]
     },
     "metadata": {
      "needs_background": "light"
     },
     "output_type": "display_data"
    }
   ],
   "source": [
    "# Plot the ROC Curve\n",
    "import matplotlib.pyplot as plt\n",
    "plt.figure(figsize=(15,10))\n",
    "plt.plot(r_fpr, r_tpr, linestyle = '--', label = \"Random Predicition: AUROC = %.3f\" %(r_auc))\n",
    "plt.plot(rf_fpr, rf_tpr, linestyle = '--', label = \"Random Forest: AUROC = %.3f\" %(rf_auc))\n",
    "plt.plot(dt_fpr, dt_tpr, linestyle = '--', label = \"Decistion Tress Predicition: AUROC = %.3f\" %(dt_auc))\n",
    "plt.plot(gb_fpr, gb_tpr, linestyle = '--', label = \"Gradient Boosting Predicition: AUROC = %.3f\" %(gb_auc))\n",
    "plt.plot(knn_fpr, knn_tpr, linestyle = '--', label = \"KNearest Neighbors Prediction: AUROC = %.3f\" %(knn_auc))\n",
    "plt.plot(lr_fpr, lr_tpr, linestyle = '--', label = \"Logistic Regression: AUROC = %.3f\" %(lr_auc))\n",
    "plt.plot(sv_fpr, sv_tpr, linestyle = '--', label = \"Support Vector Machine: AUROC = %.3f\" %(sv_auc))\n",
    "plt.plot(nb_fpr, nb_tpr, linestyle = '--', label = \"Naive Bayes: AUROC = %.3f\" %(nb_auc))\n",
    "\n",
    "#Title\n",
    "plt.title(\"ROC Plot\")\n",
    "\n",
    "#Axis Lables\n",
    "plt.xlabel('False Positive Rate')\n",
    "plt.ylabel('True Positive Rate')\n",
    "\n",
    "#Show legend\n",
    "plt.legend()\n",
    "plt.show()"
   ]
  },
  {
   "cell_type": "code",
   "execution_count": null,
   "id": "d8285b07",
   "metadata": {},
   "outputs": [],
   "source": []
  },
  {
   "cell_type": "code",
   "execution_count": null,
   "id": "573dc71d",
   "metadata": {},
   "outputs": [],
   "source": []
  }
 ],
 "metadata": {
  "kernelspec": {
   "display_name": "Python 3",
   "language": "python",
   "name": "python3"
  },
  "language_info": {
   "codemirror_mode": {
    "name": "ipython",
    "version": 3
   },
   "file_extension": ".py",
   "mimetype": "text/x-python",
   "name": "python",
   "nbconvert_exporter": "python",
   "pygments_lexer": "ipython3",
   "version": "3.8.8"
  }
 },
 "nbformat": 4,
 "nbformat_minor": 5
}
